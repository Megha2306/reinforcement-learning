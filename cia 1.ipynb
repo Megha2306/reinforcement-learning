{
 "cells": [
  {
   "cell_type": "code",
   "execution_count": 1,
   "id": "235dcded",
   "metadata": {},
   "outputs": [
    {
     "name": "stdout",
     "output_type": "stream",
     "text": [
      "Recommended item 3 in group 'action' with reward: 1\n",
      "Recommended item 0 in group 'action' with reward: 0\n",
      "Recommended item 3 in group 'action' with reward: 0\n",
      "Recommended item 3 in group 'action' with reward: 0\n",
      "Recommended item 2 in group 'action' with reward: 0\n",
      "Recommended item 4 in group 'action' with reward: 0\n",
      "Recommended item 1 in group 'action' with reward: 1\n",
      "Recommended item 1 in group 'action' with reward: 0\n",
      "Recommended item 1 in group 'action' with reward: 0\n",
      "Recommended item 2 in group 'action' with reward: 0\n"
     ]
    }
   ],
   "source": [
    "#sample code\n",
    "import numpy as np\n",
    "\n",
    "class ColdStartRecommendationSystem:\n",
    "    def __init__(self, groups):\n",
    "        # Initialize content groups with items and their alpha-beta parameters for Thompson Sampling\n",
    "        self.groups = {group_name: [{'alpha': 1, 'beta': 1} for _ in range(num_items)]\n",
    "                       for group_name, num_items in groups.items()}\n",
    "\n",
    "    def recommend_item(self, group_name):\n",
    "        # Sample reward estimates for each item in the selected group\n",
    "        items = self.groups[group_name]\n",
    "        sampled_rewards = [np.random.beta(item['alpha'], item['beta']) for item in items]\n",
    "        \n",
    "        # Select the item with the highest sampled reward\n",
    "        best_item_idx = np.argmax(sampled_rewards)\n",
    "        return best_item_idx\n",
    "\n",
    "    def update(self, group_name, item_idx, reward):\n",
    "        # Update alpha or beta based on user engagement (reward)\n",
    "        item = self.groups[group_name][item_idx]\n",
    "        if reward:  # User engaged (e.g., clicked)\n",
    "            item['alpha'] += 1\n",
    "        else:       # User did not engage\n",
    "            item['beta'] += 1\n",
    "\n",
    "# Example usage:\n",
    "# Define groups with the number of items in each (e.g., group 'action' has 5 items)\n",
    "groups = {'action': 5, 'comedy': 5, 'drama': 5}\n",
    "rec_sys = ColdStartRecommendationSystem(groups)\n",
    "\n",
    "# Simulate recommendations and updates\n",
    "group = 'action'\n",
    "for _ in range(10):  # Simulate 10 interactions\n",
    "    item = rec_sys.recommend_item(group)  # Recommend an item\n",
    "    reward = np.random.choice([1, 0], p=[0.2, 0.8])  # Simulate user engagement (20% chance)\n",
    "    rec_sys.update(group, item, reward)  # Update system based on engagement\n",
    "    print(f\"Recommended item {item} in group '{group}' with reward: {reward}\")\n"
   ]
  },
  {
   "cell_type": "code",
   "execution_count": null,
   "id": "a3b3b3ab",
   "metadata": {},
   "outputs": [],
   "source": []
  }
 ],
 "metadata": {
  "kernelspec": {
   "display_name": "Python 3 (ipykernel)",
   "language": "python",
   "name": "python3"
  },
  "language_info": {
   "codemirror_mode": {
    "name": "ipython",
    "version": 3
   },
   "file_extension": ".py",
   "mimetype": "text/x-python",
   "name": "python",
   "nbconvert_exporter": "python",
   "pygments_lexer": "ipython3",
   "version": "3.9.13"
  }
 },
 "nbformat": 4,
 "nbformat_minor": 5
}
